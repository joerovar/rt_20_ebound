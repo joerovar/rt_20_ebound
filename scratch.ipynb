{
 "cells": [
  {
   "cell_type": "code",
   "execution_count": 87,
   "metadata": {},
   "outputs": [],
   "source": [
    "from post_process import load\n",
    "from file_paths import *\n",
    "import numpy as np\n",
    "import seaborn as sns\n",
    "import pandas as pd\n",
    "import matplotlib.pyplot as plt\n",
    "from scipy.stats import ttest_ind\n",
    "plt.rcParams['figure.dpi'] = 150\n"
   ]
  },
  {
   "cell_type": "code",
   "execution_count": 2,
   "metadata": {},
   "outputs": [],
   "source": [
    "wt = load(path_dir_s1 + 'wt_numer.pkl')\n",
    "rbt = load(path_dir_s1 + 'rbt_numer.pkl')"
   ]
  },
  {
   "cell_type": "code",
   "execution_count": 3,
   "metadata": {},
   "outputs": [],
   "source": [
    "wt_b = np.array(wt)[[5,6,7]]\n",
    "rbt_b = np.array(rbt)[[5,6,7]]"
   ]
  },
  {
   "cell_type": "code",
   "execution_count": 4,
   "metadata": {},
   "outputs": [
    {
     "data": {
      "text/plain": [
       "array([ 0.        , -0.03390412, -0.19028045])"
      ]
     },
     "execution_count": 4,
     "metadata": {},
     "output_type": "execute_result"
    }
   ],
   "source": [
    "rbt_imp = np.percentile(rbt_b, 97, axis=-1)\n",
    "(rbt_imp - rbt_imp[0])/rbt_imp[0]"
   ]
  },
  {
   "cell_type": "code",
   "execution_count": 100,
   "metadata": {},
   "outputs": [],
   "source": [
    "# for the weight analysis\n",
    "w3 = load(path_p_ddqn_ha3)\n",
    "w5 = load(path_p_ddqn_ha5)\n",
    "w7 = load(path_p_ddqn_ha7)\n",
    "w9 = load(path_p_ddqn_ha9)\n",
    "w11 = load(path_p_ddqn_ha11)\n",
    "rbt_w = load('out/compare/weights/rbt_numer.pkl')\n",
    "wt_w = load('out/compare/weights/wt_numer.pkl')\n",
    "tt_w = load('out/compare/weights/all_trip_t.pkl')"
   ]
  },
  {
   "cell_type": "code",
   "execution_count": 102,
   "metadata": {},
   "outputs": [
    {
     "data": {
      "text/plain": [
       "5"
      ]
     },
     "execution_count": 102,
     "metadata": {},
     "output_type": "execute_result"
    }
   ],
   "source": [
    "np"
   ]
  },
  {
   "cell_type": "code",
   "execution_count": 104,
   "metadata": {},
   "outputs": [
    {
     "data": {
      "text/plain": [
       "(array([2.19492991, 2.01148135, 2.0165655 , 2.00479464, 2.13284607]),\n",
       " array([3.10988768, 2.87529402, 2.8610118 , 2.78767852, 2.90632763]),\n",
       " array([4353.35 , 4339.9  , 4365.375, 4317.625, 4371.225]))"
      ]
     },
     "execution_count": 104,
     "metadata": {},
     "output_type": "execute_result"
    }
   ],
   "source": [
    "np.percentile(rbt_w, 75, axis=-1), np.percentile(wt_w, 75, axis=-1), np.percentile(tt_w, 75, axis=-1)"
   ]
  },
  {
   "cell_type": "code",
   "execution_count": 103,
   "metadata": {},
   "outputs": [
    {
     "data": {
      "text/plain": [
       "(array([0.23354261, 0.20686344, 0.2603863 , 0.21401859, 0.26009711]),\n",
       " array([0.3263047 , 0.34221371, 0.33373936, 0.28816981, 0.35737393]),\n",
       " array([249.29834848, 253.16923413, 232.37848116, 221.07708329,\n",
       "        227.22135357]))"
      ]
     },
     "execution_count": 103,
     "metadata": {},
     "output_type": "execute_result"
    }
   ],
   "source": [
    "np.std(wt_w, axis=-1), np.std(rbt_w, axis=-1), np.std(tt_w, axis=-1)"
   ]
  },
  {
   "cell_type": "code",
   "execution_count": 29,
   "metadata": {},
   "outputs": [],
   "source": [
    "# for hypothesis testing on wait time groups\n",
    "nc = load(path_p_nc_b)\n",
    "eh = load(path_p_eh_b)\n",
    "ddqnla = load(path_p_ddqn_la_b)\n",
    "ddqnha = load(path_p_ddqn_ha_b)"
   ]
  },
  {
   "cell_type": "code",
   "execution_count": 30,
   "metadata": {},
   "outputs": [],
   "source": [
    "all_pax = []\n",
    "\n",
    "for scenario, name_scen in zip([nc, eh, ddqnla, ddqnha], ['nc', 'eh', 'ddqnla', 'ddqnha']):\n",
    "    for replication in scenario:\n",
    "        all_pax += [[p.orig_idx, p.wait_time, name_scen] for p in replication]"
   ]
  },
  {
   "cell_type": "code",
   "execution_count": 31,
   "metadata": {},
   "outputs": [],
   "source": [
    "wt_by_scen = pd.DataFrame(all_pax, columns=['orig_idx', 'wait_time', 'scenario'])"
   ]
  },
  {
   "cell_type": "code",
   "execution_count": 18,
   "metadata": {},
   "outputs": [],
   "source": [
    "wtc = wt_by_scen.groupby(['orig_idx', 'scenario'])['wait_time'].mean().reset_index()"
   ]
  },
  {
   "cell_type": "code",
   "execution_count": 62,
   "metadata": {},
   "outputs": [],
   "source": [
    "wtcount = wt_by_scen.groupby(['orig_idx'])['wait_time'].count().reset_index()"
   ]
  },
  {
   "cell_type": "code",
   "execution_count": 56,
   "metadata": {},
   "outputs": [
    {
     "name": "stdout",
     "output_type": "stream",
     "text": [
      "nc 606\n",
      "eh 629\n",
      "ddqnla 612\n",
      "ddqnha 634\n"
     ]
    }
   ],
   "source": [
    "spec_stop = wt_by_scen[wt_by_scen['orig_idx']==53].copy()\n",
    "for sc in spec_stop['scenario'].unique():\n",
    "    spec_scen = spec_stop[spec_stop['scenario']==sc]\n",
    "    print(sc, spec_scen.shape[0])"
   ]
  },
  {
   "cell_type": "code",
   "execution_count": 57,
   "metadata": {},
   "outputs": [
    {
     "data": {
      "text/plain": [
       "Ttest_indResult(statistic=-2.0049328543272003, pvalue=0.04519045417437392)"
      ]
     },
     "execution_count": 57,
     "metadata": {},
     "output_type": "execute_result"
    }
   ],
   "source": [
    "ttest_ind(spec_stop.loc[spec_stop['scenario']=='ddqnha', 'wait_time'], spec_stop.loc[spec_stop['scenario']=='eh', 'wait_time'], equal_var=False)"
   ]
  },
  {
   "cell_type": "code",
   "execution_count": 77,
   "metadata": {},
   "outputs": [],
   "source": [
    "spec_stop.loc[spec_stop['scenario']=='eh', 'scenario'] = 'EH'\n",
    "spec_stop.loc[spec_stop['scenario']=='ddqnha', 'scenario'] = 'DDQN-HA'"
   ]
  },
  {
   "cell_type": "code",
   "execution_count": 86,
   "metadata": {},
   "outputs": [
    {
     "data": {
      "text/plain": [
       "Text(0.5, 0, 'wait time (mins)')"
      ]
     },
     "execution_count": 86,
     "metadata": {},
     "output_type": "execute_result"
    },
    {
     "data": {
      "image/png": "[encoded data removed]",
      "text/plain": [
       "<Figure size 750x750 with 1 Axes>"
      ]
     },
     "metadata": {},
     "output_type": "display_data"
    }
   ],
   "source": [
    "fig, ax = plt.subplots(figsize=(5,5))\n",
    "sns.histplot(data=spec_stop[(spec_stop['scenario'].isin(['EH', 'DDQN-HA'])) & (spec_stop['wait_time']<1000)], x='wait_time', hue='scenario', stat='percent', ax=ax)\n",
    "ax.set_xlabel('wait time (mins)')"
   ]
  },
  {
   "cell_type": "code",
   "execution_count": 66,
   "metadata": {},
   "outputs": [],
   "source": [
    "ddqnha = spec_stop[spec_stop['scenario']=='ddqnha'].copy()\n",
    "eh = spec_stop[spec_stop['scenario']=='eh'].copy()"
   ]
  },
  {
   "cell_type": "code",
   "execution_count": 69,
   "metadata": {},
   "outputs": [],
   "source": [
    "ehmean = eh['wait_time'].mean()\n",
    "\n",
    "change_mean = ddqnha['wait_time'].mean() - eh['wait_time'].mean()\n",
    "\n",
    "eh95 = eh['wait_time'].quantile(0.95)\n",
    "change_95 = ddqnha['wait_time'].quantile(0.95) - eh['wait_time'].quantile(0.95)"
   ]
  },
  {
   "cell_type": "code",
   "execution_count": 70,
   "metadata": {},
   "outputs": [
    {
     "data": {
      "text/plain": [
       "-0.0891054871288975"
      ]
     },
     "execution_count": 70,
     "metadata": {},
     "output_type": "execute_result"
    }
   ],
   "source": [
    "change_mean/ehmean"
   ]
  },
  {
   "cell_type": "code",
   "execution_count": 71,
   "metadata": {},
   "outputs": [
    {
     "data": {
      "text/plain": [
       "-0.12486642930982433"
      ]
     },
     "execution_count": 71,
     "metadata": {},
     "output_type": "execute_result"
    }
   ],
   "source": [
    "change_95/eh95"
   ]
  },
  {
   "cell_type": "code",
   "execution_count": 68,
   "metadata": {},
   "outputs": [
    {
     "data": {
      "text/plain": [
       "-17.686233766414432"
      ]
     },
     "execution_count": 68,
     "metadata": {},
     "output_type": "execute_result"
    }
   ],
   "source": []
  },
  {
   "cell_type": "code",
   "execution_count": 11,
   "metadata": {},
   "outputs": [
    {
     "data": {
      "text/html": [
       "<div>\n",
       "<style scoped>\n",
       "    .dataframe tbody tr th:only-of-type {\n",
       "        vertical-align: middle;\n",
       "    }\n",
       "\n",
       "    .dataframe tbody tr th {\n",
       "        vertical-align: top;\n",
       "    }\n",
       "\n",
       "    .dataframe thead th {\n",
       "        text-align: right;\n",
       "    }\n",
       "</style>\n",
       "<table border=\"1\" class=\"dataframe\">\n",
       "  <thead>\n",
       "    <tr style=\"text-align: right;\">\n",
       "      <th></th>\n",
       "      <th>scenario</th>\n",
       "      <th>wait_time</th>\n",
       "    </tr>\n",
       "  </thead>\n",
       "  <tbody>\n",
       "    <tr>\n",
       "      <th>0</th>\n",
       "      <td>ddqnha</td>\n",
       "      <td>0.139153</td>\n",
       "    </tr>\n",
       "    <tr>\n",
       "      <th>1</th>\n",
       "      <td>ddqnla</td>\n",
       "      <td>0.150323</td>\n",
       "    </tr>\n",
       "    <tr>\n",
       "      <th>2</th>\n",
       "      <td>eh</td>\n",
       "      <td>0.150652</td>\n",
       "    </tr>\n",
       "    <tr>\n",
       "      <th>3</th>\n",
       "      <td>nc</td>\n",
       "      <td>0.198018</td>\n",
       "    </tr>\n",
       "  </tbody>\n",
       "</table>\n",
       "</div>"
      ],
      "text/plain": [
       "  scenario  wait_time\n",
       "0   ddqnha   0.139153\n",
       "1   ddqnla   0.150323\n",
       "2       eh   0.150652\n",
       "3       nc   0.198018"
      ]
     },
     "execution_count": 11,
     "metadata": {},
     "output_type": "execute_result"
    }
   ],
   "source": [
    "wt_by_scen.groupby('scenario')['wait_time'].apply(lambda x: (x>=5*60).sum()/(x>=0).sum()).reset_index()"
   ]
  },
  {
   "cell_type": "code",
   "execution_count": 29,
   "metadata": {},
   "outputs": [],
   "source": [
    "wt_by_scen_peak = wt_by_scen[wt_by_scen['orig_idx']==48].copy()"
   ]
  },
  {
   "cell_type": "code",
   "execution_count": 30,
   "metadata": {},
   "outputs": [
    {
     "data": {
      "text/html": [
       "<div>\n",
       "<style scoped>\n",
       "    .dataframe tbody tr th:only-of-type {\n",
       "        vertical-align: middle;\n",
       "    }\n",
       "\n",
       "    .dataframe tbody tr th {\n",
       "        vertical-align: top;\n",
       "    }\n",
       "\n",
       "    .dataframe thead th {\n",
       "        text-align: right;\n",
       "    }\n",
       "</style>\n",
       "<table border=\"1\" class=\"dataframe\">\n",
       "  <thead>\n",
       "    <tr style=\"text-align: right;\">\n",
       "      <th></th>\n",
       "      <th>scenario</th>\n",
       "      <th>wait_time</th>\n",
       "    </tr>\n",
       "  </thead>\n",
       "  <tbody>\n",
       "    <tr>\n",
       "      <th>0</th>\n",
       "      <td>ddqnha</td>\n",
       "      <td>0.128137</td>\n",
       "    </tr>\n",
       "    <tr>\n",
       "      <th>1</th>\n",
       "      <td>ddqnla</td>\n",
       "      <td>0.191367</td>\n",
       "    </tr>\n",
       "    <tr>\n",
       "      <th>2</th>\n",
       "      <td>eh</td>\n",
       "      <td>0.187316</td>\n",
       "    </tr>\n",
       "    <tr>\n",
       "      <th>3</th>\n",
       "      <td>nc</td>\n",
       "      <td>0.301136</td>\n",
       "    </tr>\n",
       "  </tbody>\n",
       "</table>\n",
       "</div>"
      ],
      "text/plain": [
       "  scenario  wait_time\n",
       "0   ddqnha   0.128137\n",
       "1   ddqnla   0.191367\n",
       "2       eh   0.187316\n",
       "3       nc   0.301136"
      ]
     },
     "execution_count": 30,
     "metadata": {},
     "output_type": "execute_result"
    }
   ],
   "source": [
    "wt_by_scen_peak.groupby('scenario')['wait_time'].apply(lambda x: (x>=5*60).sum()/(x>=0).sum()).reset_index()"
   ]
  },
  {
   "cell_type": "code",
   "execution_count": 58,
   "metadata": {},
   "outputs": [
    {
     "data": {
      "text/plain": [
       "scenario\n",
       "ddqnha    158.223020\n",
       "ddqnla    181.697009\n",
       "eh        164.995069\n",
       "nc        224.681316\n",
       "Name: wait_time, dtype: float64"
      ]
     },
     "execution_count": 58,
     "metadata": {},
     "output_type": "execute_result"
    }
   ],
   "source": [
    "wt_by_scen_peak.groupby('scenario')['wait_time'].mean()"
   ]
  },
  {
   "cell_type": "code",
   "execution_count": 16,
   "metadata": {},
   "outputs": [
    {
     "data": {
      "text/plain": [
       "array([[<AxesSubplot:title={'center':'wait_time'}>]], dtype=object)"
      ]
     },
     "execution_count": 16,
     "metadata": {},
     "output_type": "execute_result"
    },
    {
     "data": {
      "image/png": "[encoded data removed]",
      "text/plain": [
       "<Figure size 640x480 with 1 Axes>"
      ]
     },
     "metadata": {},
     "output_type": "display_data"
    }
   ],
   "source": [
    "wt_by_scen[wt_by_scen['scenario']=='ddqnla'].hist('wait_time')"
   ]
  },
  {
   "cell_type": "code",
   "execution_count": 57,
   "metadata": {},
   "outputs": [
    {
     "data": {
      "text/plain": [
       "Text(0.5, 0, 'wait time (seconds)')"
      ]
     },
     "execution_count": 57,
     "metadata": {},
     "output_type": "execute_result"
    },
    {
     "data": {
      "image/png": "[encoded data removed]",
      "text/plain": [
       "<Figure size 640x480 with 1 Axes>"
      ]
     },
     "metadata": {},
     "output_type": "display_data"
    }
   ],
   "source": [
    "fig, ax = plt.subplots()\n",
    "styles1 = ['bs-','ro-','y^-', 'po-']\n",
    "scenarios = ['nc', 'eh', 'ddqnla', 'ddqnha']\n",
    "scenario_lbls = ['NC', 'EH', 'DDQN-LA', 'DDQN-HA']\n",
    "\n",
    "linestyles = ['dashed', 'solid', 'solid', 'solid']\n",
    "colors = ['gray', 'lightgray', 'darkgray', 'black']\n",
    "for i in range(len(linestyles)):\n",
    "    sns.kdeplot(\n",
    "        data=wt_by_scen_peak[wt_by_scen_peak['scenario']==scenarios[i]], x='wait_time', ax=ax, linestyle=linestyles[i], color=colors[i], label=scenario_lbls[i])\n",
    "plt.legend()\n",
    "plt.axvline(wt_by_scen_peak.loc[wt_by_scen_peak['scenario']=='ddqnha','wait_time'].quantile(0.9), color='black', linestyle='dotted')\n",
    "plt.xlim(0,880)\n",
    "ax.set_yticks([])\n",
    "ax.set_ylabel('Density')\n",
    "ax.set_xlabel('wait time (seconds)')"
   ]
  },
  {
   "cell_type": "code",
   "execution_count": null,
   "metadata": {},
   "outputs": [],
   "source": []
  }
 ],
 "metadata": {
  "kernelspec": {
   "display_name": "bus-control-tool",
   "language": "python",
   "name": "bus-control-tool"
  },
  "language_info": {
   "codemirror_mode": {
    "name": "ipython",
    "version": 3
   },
   "file_extension": ".py",
   "mimetype": "text/x-python",
   "name": "python",
   "nbconvert_exporter": "python",
   "pygments_lexer": "ipython3",
   "version": "3.10.4"
  },
  "orig_nbformat": 4
 },
 "nbformat": 4,
 "nbformat_minor": 2
}
